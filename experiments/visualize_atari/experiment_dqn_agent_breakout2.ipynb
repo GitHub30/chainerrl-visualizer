{
 "cells": [
  {
   "cell_type": "code",
   "execution_count": 2,
   "metadata": {},
   "outputs": [
    {
     "name": "stderr",
     "output_type": "stream",
     "text": [
      "/Users/sykwer/work/i18-sykwer/visualize_atari/venv/lib/python3.7/site-packages/gym/__init__.py:15: UserWarning: gym.undo_logger_setup is deprecated. gym no longer modifies the global logging configuration\n",
      "  warnings.warn(\"gym.undo_logger_setup is deprecated. gym no longer modifies the global logging configuration\")\n",
      "/Users/sykwer/work/i18-sykwer/visualize_atari/venv/lib/python3.7/site-packages/chainer/_environment_check.py:38: UserWarning: Accelerate has been detected as a NumPy backend library.\n",
      "vecLib, which is a part of Accelerate, is known not to work correctly with Chainer.\n",
      "We recommend using other BLAS libraries such as OpenBLAS.\n",
      "For details of the issue, please see\n",
      "https://docs.chainer.org/en/stable/tips.html#mnist-example-does-not-converge-in-cpu-mode-on-mac-os-x.\n",
      "\n",
      "Also note that Chainer does not officially support Mac OS X.\n",
      "Please use it at your own risk.\n",
      "\n",
      "  ''')  # NOQA\n"
     ]
    }
   ],
   "source": [
    "from __future__ import print_function\n",
    "from __future__ import division\n",
    "from __future__ import unicode_literals\n",
    "from __future__ import absolute_import\n",
    "from builtins import *  # NOQA\n",
    "from future import standard_library\n",
    "\n",
    "standard_library.install_aliases()  # NOQA\n",
    "import argparse\n",
    "import os\n",
    "import logging\n",
    "import statistics\n",
    "\n",
    "from scipy.ndimage.filters import gaussian_filter\n",
    "from scipy.misc import imresize  # preserves single-pixel info _unlike_ img = img[::2,::2]\n",
    "\n",
    "import pandas as pd\n",
    "from scipy.misc import imresize\n",
    "\n",
    "import matplotlib.pyplot as plt\n",
    "\n",
    "import gym\n",
    "\n",
    "gym.undo_logger_setup()  # NOQA\n",
    "from chainer import functions as F\n",
    "from chainer import links as L\n",
    "from chainer import optimizers\n",
    "import numpy as np\n",
    "\n",
    "import chainerrl\n",
    "from chainerrl.action_value import DiscreteActionValue\n",
    "from chainerrl import agents\n",
    "from chainerrl import experiments\n",
    "from chainerrl import explorers\n",
    "from chainerrl import links\n",
    "from chainerrl import misc\n",
    "from chainerrl.q_functions import DuelingDQN\n",
    "from chainerrl import replay_buffer\n",
    "\n",
    "import atari_wrappers\n",
    "\n",
    "from scipy.misc import imsave\n",
    "import cv2"
   ]
  },
  {
   "cell_type": "code",
   "execution_count": 3,
   "metadata": {},
   "outputs": [],
   "source": [
    "random_seed = 1\n",
    "outdir = \"results\"\n",
    "env_name = \"BreakoutNoFrameskip-v4\"\n",
    "load_dir = \"results/211288/20180804T155228.325999/10000000_finish\""
   ]
  },
  {
   "cell_type": "code",
   "execution_count": 4,
   "metadata": {},
   "outputs": [],
   "source": [
    "def make_env():\n",
    "    env = atari_wrappers.wrap_deepmind(\n",
    "        atari_wrappers.make_atari(env_name),\n",
    "        episode_life=False, clip_rewards=False\n",
    "    )\n",
    "    env.seed(random_seed)\n",
    "    # misc.env_modifiers.make_rendered(env)\n",
    "    return env\n",
    "env = make_env()"
   ]
  },
  {
   "cell_type": "code",
   "execution_count": 5,
   "metadata": {},
   "outputs": [
    {
     "name": "stdout",
     "output_type": "stream",
     "text": [
      "observation space shape: (4, 84, 84)\n",
      "action size: 4\n"
     ]
    }
   ],
   "source": [
    "print(\"observation space shape: {}\".format(env.observation_space.shape))\n",
    "print(\"action size: {}\".format(env.action_space.n))"
   ]
  },
  {
   "cell_type": "code",
   "execution_count": 6,
   "metadata": {},
   "outputs": [],
   "source": [
    "q_func = links.Sequence(\n",
    "    links.NatureDQNHead(activation=F.relu),\n",
    "    L.Linear(512, env.action_space.n),\n",
    "    DiscreteActionValue,\n",
    ")\n",
    "opt = optimizers.RMSpropGraves(lr=2.5e-4, alpha=0.95, momentum=0.0, eps=1e-2)\n",
    "opt.setup(q_func)\n",
    "rep_buf = replay_buffer.ReplayBuffer(10 ** 6)\n",
    "explorer = explorers.LinearDecayEpsilonGreedy(\n",
    "    1,0, 0.1, 10 ** 6, lambda: np.random.randint(env.action_space.n),\n",
    ")"
   ]
  },
  {
   "cell_type": "code",
   "execution_count": 7,
   "metadata": {},
   "outputs": [],
   "source": [
    "agent = agents.DQN(q_func, opt, rep_buf, gpu=-1, gamma=0.99, explorer=explorer, replay_start_size=5 * 10**4,\n",
    "           target_update_interval=10**4, clip_delta=True, update_interval=4, batch_accumulator=\"sum\",\n",
    "            phi=lambda x: np.asarray(x, np.float32) / 255)\n",
    "agent.load(load_dir)"
   ]
  },
  {
   "cell_type": "code",
   "execution_count": 8,
   "metadata": {},
   "outputs": [
    {
     "name": "stdout",
     "output_type": "stream",
     "text": [
      "\u001b[33mWARN: <class 'atari_wrappers.FrameStack'> doesn't implement 'reset' method, but it implements deprecated '_reset' method.\u001b[0m\n",
      "episode reward: 379.0\n"
     ]
    }
   ],
   "source": [
    "obs = env.reset()\n",
    "image = env.render(mode=\"rgb_array\")\n",
    "done = False\n",
    "test_r = 0\n",
    "t = 0\n",
    "\n",
    "obs_list = []\n",
    "image_list = []\n",
    "obs_list.append(obs)\n",
    "image_list.append(image)\n",
    "\n",
    "while not (done or t == 5 * 60 * 60 // 4): # max_episode_len\n",
    "    a = agent.act(obs)\n",
    "    obs, r, done, info = env.step(a)\n",
    "    image = env.render(mode=\"rgb_array\")\n",
    "    obs_list.append(obs)\n",
    "    image_list.append(image)\n",
    "    test_r += r\n",
    "    t += 1\n",
    "\n",
    "agent.stop_episode()\n",
    "print(\"episode reward: {}\".format(test_r))"
   ]
  },
  {
   "cell_type": "code",
   "execution_count": 45,
   "metadata": {},
   "outputs": [
    {
     "name": "stdout",
     "output_type": "stream",
     "text": [
      "4501\n",
      "4501\n"
     ]
    }
   ],
   "source": [
    "print(len(obs_list))\n",
    "print(len(image_list))"
   ]
  },
  {
   "cell_type": "code",
   "execution_count": 46,
   "metadata": {},
   "outputs": [],
   "source": [
    "def get_mask(center, size, radius):\n",
    "    y, x = np.ogrid[-center[0]:size[0] - center[0], -center[1]:size[1] - center[1]]\n",
    "    keep = (x*x + y*y) / (x*x + y*y).max() >= 0.01\n",
    "    msk = np.zeros(size)\n",
    "    msk[keep] = 1  # select a circle of pixels\n",
    "    msk = gaussian_filter(msk, sigma=radius)  # blur circle of pixels\n",
    "    return msk\n",
    "\n",
    "def occlude(img, msk):\n",
    "    return img * msk + gaussian_filter(img, sigma=3) * (1 - msk)\n",
    "\n",
    "def score_frame(agent, input_array, radius=5, density=5, size=(4, 84, 84)):\n",
    "    channel_num = size[0]\n",
    "    height = size[1]\n",
    "    width = size[2]\n",
    "    \n",
    "    scores = np.zeros((int(height / density) + 1, int(width / density) + 1))\n",
    "    qvalues = agent.model(agent.batch_states([input_array], agent.xp, agent.phi)).q_values.data\n",
    "    \n",
    "    for i in range(0, 80, density):\n",
    "        for j in range(0, 80, density):\n",
    "            mask = get_mask([i, j], size=[height, width], radius=radius)\n",
    "            perturbed_img = occlude(input_array, mask)\n",
    "            perturbated_qvalues = agent.model(agent.batch_states([perturbed_img], agent.xp, agent.phi)).q_values.data\n",
    "            scores[int(i / density), int(j / density)] = np.power(qvalues - perturbated_qvalues, 2).sum()\n",
    "    pmax = scores.max()\n",
    "    scores = imresize(scores, size=[size[1], size[2]], interp=\"bilinear\").astype(np.float32)\n",
    "    return pmax * scores / scores.max()\n",
    "    \n",
    "    return scores"
   ]
  },
  {
   "cell_type": "code",
   "execution_count": 47,
   "metadata": {},
   "outputs": [],
   "source": [
    "def saliency_on_atari_frame(saliency, atari, fudge_factor, size=[210, 160], channel=2, sigma=0):\n",
    "    pmax = saliency.max()\n",
    "    S = imresize(saliency, size=[210, 160], interp=\"bilinear\").astype(np.float32)\n",
    "    S = S if sigma == 0 else gaussian_filter(S, sigma=sigma)\n",
    "    S -= S.min()\n",
    "    S = fudge_factor * pmax * S / S.max()\n",
    "    I = atari.astype(\"uint16\")\n",
    "    I[:, :, channel] += S.astype(\"uint16\")\n",
    "    I = I.clip(1, 255).astype(\"uint8\")\n",
    "    return I"
   ]
  },
  {
   "cell_type": "code",
   "execution_count": 51,
   "metadata": {},
   "outputs": [
    {
     "name": "stderr",
     "output_type": "stream",
     "text": [
      "/Users/sykwer/work/i18-sykwer/visualize_atari/venv/lib/python3.7/site-packages/ipykernel_launcher.py:27: DeprecationWarning: `imresize` is deprecated!\n",
      "`imresize` is deprecated in SciPy 1.0.0, and will be removed in 1.2.0.\n",
      "Use ``skimage.transform.resize`` instead.\n",
      "/Users/sykwer/work/i18-sykwer/visualize_atari/venv/lib/python3.7/site-packages/ipykernel_launcher.py:4: DeprecationWarning: `imresize` is deprecated!\n",
      "`imresize` is deprecated in SciPy 1.0.0, and will be removed in 1.2.0.\n",
      "Use ``skimage.transform.resize`` instead.\n",
      "  after removing the cwd from sys.path.\n"
     ]
    },
    {
     "data": {
      "image/png": "[encoded data removed]",
      "text/plain": [
       "<Figure size 864x864 with 2 Axes>"
      ]
     },
     "metadata": {},
     "output_type": "display_data"
    }
   ],
   "source": [
    "fig = plt.figure(figsize=[12, 12])\n",
    "ax1 = fig.add_subplot(121)\n",
    "ax2 = fig.add_subplot(122)\n",
    "ax1.imshow(imresize(score_frame(agent, np.asarray(obs_list[1500])), size=[210, 160], interp=\"bilinear\").astype(np.float32))\n",
    "ax2.imshow(image_list[1500])\n",
    "plt.show()"
   ]
  },
  {
   "cell_type": "code",
   "execution_count": 61,
   "metadata": {},
   "outputs": [
    {
     "name": "stderr",
     "output_type": "stream",
     "text": [
      "/Users/sykwer/work/i18-sykwer/visualize_atari/venv/lib/python3.7/site-packages/ipykernel_launcher.py:27: DeprecationWarning: `imresize` is deprecated!\n",
      "`imresize` is deprecated in SciPy 1.0.0, and will be removed in 1.2.0.\n",
      "Use ``skimage.transform.resize`` instead.\n",
      "/Users/sykwer/work/i18-sykwer/visualize_atari/venv/lib/python3.7/site-packages/ipykernel_launcher.py:3: DeprecationWarning: `imresize` is deprecated!\n",
      "`imresize` is deprecated in SciPy 1.0.0, and will be removed in 1.2.0.\n",
      "Use ``skimage.transform.resize`` instead.\n",
      "  This is separate from the ipykernel package so we can avoid doing imports until\n"
     ]
    },
    {
     "data": {
      "image/png": "[encoded data removed]",
      "text/plain": [
       "<Figure size 432x288 with 1 Axes>"
      ]
     },
     "metadata": {},
     "output_type": "display_data"
    }
   ],
   "source": [
    "output = saliency_on_atari_frame(score_frame(agent, np.asarray(obs_list[1500])), image_list[1500], 50, channel=2)\n",
    "plt.imshow(output)\n",
    "plt.show()"
   ]
  },
  {
   "cell_type": "code",
   "execution_count": 63,
   "metadata": {},
   "outputs": [
    {
     "name": "stderr",
     "output_type": "stream",
     "text": [
      "/Users/sykwer/work/i18-sykwer/visualize_atari/venv/lib/python3.7/site-packages/ipykernel_launcher.py:27: DeprecationWarning: `imresize` is deprecated!\n",
      "`imresize` is deprecated in SciPy 1.0.0, and will be removed in 1.2.0.\n",
      "Use ``skimage.transform.resize`` instead.\n",
      "/Users/sykwer/work/i18-sykwer/visualize_atari/venv/lib/python3.7/site-packages/ipykernel_launcher.py:3: DeprecationWarning: `imresize` is deprecated!\n",
      "`imresize` is deprecated in SciPy 1.0.0, and will be removed in 1.2.0.\n",
      "Use ``skimage.transform.resize`` instead.\n",
      "  This is separate from the ipykernel package so we can avoid doing imports until\n",
      "/Users/sykwer/work/i18-sykwer/visualize_atari/venv/lib/python3.7/site-packages/ipykernel_launcher.py:3: DeprecationWarning: `imsave` is deprecated!\n",
      "`imsave` is deprecated in SciPy 1.0.0, and will be removed in 1.2.0.\n",
      "Use ``imageio.imwrite`` instead.\n",
      "  This is separate from the ipykernel package so we can avoid doing imports until\n"
     ]
    }
   ],
   "source": [
    "for step in range(1500, 1600):\n",
    "    output_image_map = output = saliency_on_atari_frame(score_frame(agent, np.asarray(obs_list[step])), image_list[step], 50, channel=2)\n",
    "    imsave(\"images1/{}.png\".format(step), output_image_map)"
   ]
  },
  {
   "cell_type": "code",
   "execution_count": 67,
   "metadata": {},
   "outputs": [],
   "source": [
    "images = []\n",
    "for i in range(1500, 1600):\n",
    "    images.append(\"{}.png\".format(i))\n",
    "frame = cv2.imread(os.path.join(\"images1\", images[0]))\n",
    "height, width, channel = frame.shape\n",
    "\n",
    "video = cv2.VideoWriter(\"video.avi\", -1, 1, (width, height))\n",
    "\n",
    "for image in images:\n",
    "    video.write(cv2.imread(os.path.join(\"images1\", image)))\n",
    "\n",
    "cv2.destroyAllWindows()\n",
    "video.release()"
   ]
  },
  {
   "cell_type": "code",
   "execution_count": 1,
   "metadata": {},
   "outputs": [
    {
     "ename": "NameError",
     "evalue": "name 'plt' is not defined",
     "output_type": "error",
     "traceback": [
      "\u001b[0;31m----------\u001b[0m",
      "\u001b[0;31mNameError\u001b[0mTraceback (most recent call last)",
      "\u001b[0;32m<ipython-input-1-36ba9ee7392f>\u001b[0m in \u001b[0;36m<module>\u001b[0;34m()\u001b[0m\n\u001b[0;32m----> 1\u001b[0;31m \u001b[0mfig\u001b[0m \u001b[0;34m=\u001b[0m \u001b[0mplt\u001b[0m\u001b[0;34m.\u001b[0m\u001b[0mfigure\u001b[0m\u001b[0;34m(\u001b[0m\u001b[0mfigsize\u001b[0m\u001b[0;34m=\u001b[0m\u001b[0;34m[\u001b[0m\u001b[0;36m16\u001b[0m\u001b[0;34m,\u001b[0m \u001b[0;36m12\u001b[0m\u001b[0;34m]\u001b[0m\u001b[0;34m)\u001b[0m\u001b[0;34m\u001b[0m\u001b[0m\n\u001b[0m\u001b[1;32m      2\u001b[0m \u001b[0mj\u001b[0m \u001b[0;34m=\u001b[0m \u001b[0;36m1\u001b[0m\u001b[0;34m\u001b[0m\u001b[0m\n\u001b[1;32m      3\u001b[0m \u001b[0;32mfor\u001b[0m \u001b[0mi\u001b[0m \u001b[0;32min\u001b[0m \u001b[0mrange\u001b[0m\u001b[0;34m(\u001b[0m\u001b[0;36m0\u001b[0m\u001b[0;34m,\u001b[0m \u001b[0;36m6\u001b[0m\u001b[0;34m)\u001b[0m\u001b[0;34m:\u001b[0m\u001b[0;34m\u001b[0m\u001b[0m\n\u001b[1;32m      4\u001b[0m     \u001b[0max\u001b[0m \u001b[0;34m=\u001b[0m \u001b[0mfig\u001b[0m\u001b[0;34m.\u001b[0m\u001b[0madd_subplot\u001b[0m\u001b[0;34m(\u001b[0m\u001b[0;34m\"16{}\"\u001b[0m\u001b[0;34m.\u001b[0m\u001b[0mformat\u001b[0m\u001b[0;34m(\u001b[0m\u001b[0mj\u001b[0m\u001b[0;34m)\u001b[0m\u001b[0;34m)\u001b[0m\u001b[0;34m\u001b[0m\u001b[0m\n\u001b[1;32m      5\u001b[0m     \u001b[0mj\u001b[0m \u001b[0;34m+=\u001b[0m \u001b[0;36m1\u001b[0m\u001b[0;34m\u001b[0m\u001b[0m\n",
      "\u001b[0;31mNameError\u001b[0m: name 'plt' is not defined"
     ]
    }
   ],
   "source": []
  },
  {
   "cell_type": "code",
   "execution_count": null,
   "metadata": {},
   "outputs": [],
   "source": []
  },
  {
   "cell_type": "code",
   "execution_count": null,
   "metadata": {},
   "outputs": [],
   "source": []
  }
 ],
 "metadata": {
  "kernelspec": {
   "display_name": "Python 3",
   "language": "python",
   "name": "python3"
  },
  "language_info": {
   "codemirror_mode": {
    "name": "ipython",
    "version": 3
   },
   "file_extension": ".py",
   "mimetype": "text/x-python",
   "name": "python",
   "nbconvert_exporter": "python",
   "pygments_lexer": "ipython3",
   "version": "3.7.0"
  }
 },
 "nbformat": 4,
 "nbformat_minor": 2
}
