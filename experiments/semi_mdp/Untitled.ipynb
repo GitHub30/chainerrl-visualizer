{
 "cells": [
  {
   "cell_type": "code",
   "execution_count": 1,
   "metadata": {},
   "outputs": [
    {
     "name": "stderr",
     "output_type": "stream",
     "text": [
      "/Users/sykwer/work/i18-sykwer/visualize_atari/venv/lib/python3.7/site-packages/gym/__init__.py:15: UserWarning: gym.undo_logger_setup is deprecated. gym no longer modifies the global logging configuration\n",
      "  warnings.warn(\"gym.undo_logger_setup is deprecated. gym no longer modifies the global logging configuration\")\n",
      "/Users/sykwer/work/i18-sykwer/visualize_atari/venv/lib/python3.7/site-packages/chainer/_environment_check.py:38: UserWarning: Accelerate has been detected as a NumPy backend library.\n",
      "vecLib, which is a part of Accelerate, is known not to work correctly with Chainer.\n",
      "We recommend using other BLAS libraries such as OpenBLAS.\n",
      "For details of the issue, please see\n",
      "https://docs.chainer.org/en/stable/tips.html#mnist-example-does-not-converge-in-cpu-mode-on-mac-os-x.\n",
      "\n",
      "Also note that Chainer does not officially support Mac OS X.\n",
      "Please use it at your own risk.\n",
      "\n",
      "  ''')  # NOQA\n"
     ]
    }
   ],
   "source": [
    "from bhtsne import tsne\n",
    "from sklearn.datasets import load_iris\n",
    "import matplotlib.pyplot as plt\n",
    "\n",
    "import os\n",
    "import logging\n",
    "import statistics\n",
    "\n",
    "import pandas as pd\n",
    "import matplotlib.pyplot as plt\n",
    "\n",
    "import gym\n",
    "\n",
    "gym.undo_logger_setup()  # NOQA\n",
    "from chainer import functions as F\n",
    "from chainer import links as L\n",
    "from chainer import optimizers\n",
    "import numpy as np\n",
    "\n",
    "import chainerrl\n",
    "from chainerrl.action_value import DiscreteActionValue\n",
    "from chainerrl import agents\n",
    "from chainerrl import experiments\n",
    "from chainerrl import explorers\n",
    "from chainerrl import links\n",
    "from chainerrl import misc\n",
    "from chainerrl.q_functions import DuelingDQN\n",
    "from chainerrl import replay_buffer\n",
    "\n",
    "import atari_wrappers"
   ]
  },
  {
   "cell_type": "code",
   "execution_count": 2,
   "metadata": {},
   "outputs": [],
   "source": [
    "random_seed = 1\n",
    "outdir = \"results\"\n",
    "env_name = \"BreakoutNoFrameskip-v4\"\n",
    "load_dir = \"../visualize_atari/results/211288/20180804T155228.325999/10000000_finish\""
   ]
  },
  {
   "cell_type": "code",
   "execution_count": 3,
   "metadata": {},
   "outputs": [],
   "source": [
    "def make_env():\n",
    "    env = atari_wrappers.wrap_deepmind(\n",
    "        atari_wrappers.make_atari(env_name),\n",
    "        episode_life=False, clip_rewards=False\n",
    "    )\n",
    "    env.seed(random_seed)\n",
    "    # misc.env_modifiers.make_rendered(env)\n",
    "    return env\n",
    "env = make_env()"
   ]
  },
  {
   "cell_type": "code",
   "execution_count": 4,
   "metadata": {},
   "outputs": [
    {
     "name": "stdout",
     "output_type": "stream",
     "text": [
      "observation space shape: (4, 84, 84)\n",
      "action size: 4\n"
     ]
    }
   ],
   "source": [
    "print(\"observation space shape: {}\".format(env.observation_space.shape))\n",
    "print(\"action size: {}\".format(env.action_space.n))"
   ]
  },
  {
   "cell_type": "code",
   "execution_count": 5,
   "metadata": {},
   "outputs": [],
   "source": [
    "q_func = links.Sequence(\n",
    "    links.NatureDQNHead(activation=F.relu),\n",
    "    L.Linear(512, env.action_space.n),\n",
    "    DiscreteActionValue,\n",
    ")\n",
    "opt = optimizers.RMSpropGraves(lr=2.5e-4, alpha=0.95, momentum=0.0, eps=1e-2)\n",
    "opt.setup(q_func)\n",
    "rep_buf = replay_buffer.ReplayBuffer(10 ** 6)\n",
    "explorer = explorers.LinearDecayEpsilonGreedy(\n",
    "    1,0, 0.1, 10 ** 6, lambda: np.random.randint(env.action_space.n),\n",
    ")"
   ]
  },
  {
   "cell_type": "code",
   "execution_count": 6,
   "metadata": {},
   "outputs": [],
   "source": [
    "agent = agents.DQN(q_func, opt, rep_buf, gpu=-1, gamma=0.99, explorer=explorer, replay_start_size=5 * 10**4,\n",
    "           target_update_interval=10**4, clip_delta=True, update_interval=4, batch_accumulator=\"sum\",\n",
    "            phi=lambda x: np.asarray(x, np.float32) / 255)\n",
    "agent.load(load_dir)"
   ]
  },
  {
   "cell_type": "code",
   "execution_count": 7,
   "metadata": {},
   "outputs": [
    {
     "name": "stdout",
     "output_type": "stream",
     "text": [
      "\u001b[33mWARN: <class 'atari_wrappers.FrameStack'> doesn't implement 'reset' method, but it implements deprecated '_reset' method.\u001b[0m\n",
      "episode reward: 379.0\n",
      "episode reward: 344.0\n",
      "episode reward: 344.0\n",
      "episode reward: 264.0\n",
      "episode reward: 227.0\n"
     ]
    }
   ],
   "source": [
    "conv_acti_list = []\n",
    "\n",
    "for episode_idx in range(5):\n",
    "    obs = env.reset()\n",
    "    done = False\n",
    "    test_r = 0\n",
    "    t = 0\n",
    "    \n",
    "    while not (done or t == 1800):\n",
    "        \n",
    "        head_layer = q_func.layers[0]\n",
    "        ipt = agent.batch_states([np.asarray(obs)], agent.xp, agent.phi)\n",
    "        \n",
    "        conv_acti = head_layer(ipt)\n",
    "        conv_acti_list.append(conv_acti)\n",
    "        \n",
    "        a = agent.act(obs)\n",
    "        obs, r, done, info = env.step(a)\n",
    "        test_r += r\n",
    "        t += 1\n",
    "    \n",
    "    agent.stop_episode()\n",
    "    print(\"episode reward: {}\".format(test_r))"
   ]
  },
  {
   "cell_type": "code",
   "execution_count": null,
   "metadata": {},
   "outputs": [],
   "source": [
    "tsne_conv_activation = tsne(np.array(conv_acti_list))"
   ]
  },
  {
   "cell_type": "code",
   "execution_count": null,
   "metadata": {},
   "outputs": [],
   "source": []
  }
 ],
 "metadata": {
  "kernelspec": {
   "display_name": "Python 3",
   "language": "python",
   "name": "python3"
  },
  "language_info": {
   "codemirror_mode": {
    "name": "ipython",
    "version": 3
   },
   "file_extension": ".py",
   "mimetype": "text/x-python",
   "name": "python",
   "nbconvert_exporter": "python",
   "pygments_lexer": "ipython3",
   "version": "3.7.0"
  }
 },
 "nbformat": 4,
 "nbformat_minor": 2
}
