{
 "cells": [
  {
   "cell_type": "code",
   "execution_count": 58,
   "metadata": {},
   "outputs": [],
   "source": [
    "import sys\n",
    "from chainer import optimizers\n",
    "import chainer\n",
    "import gym\n",
    "import gym.wrappers\n",
    "import numpy as np\n",
    "import chainerrl\n",
    "from chainerrl import experiments\n",
    "from chainerrl import explorers\n",
    "from chainerrl import misc\n",
    "from chainerrl import q_functions\n",
    "from chainerrl import replay_buffer\n",
    "\n",
    "import atari_wrappers"
   ]
  },
  {
   "cell_type": "code",
   "execution_count": 59,
   "metadata": {},
   "outputs": [],
   "source": [
    "seed = 0\n",
    "env_name = \"SeaquestNoFrameskip-v4\"\n",
    "batch_size = 32"
   ]
  },
  {
   "cell_type": "code",
   "execution_count": 60,
   "metadata": {},
   "outputs": [],
   "source": [
    "misc.set_random_seed(seed)"
   ]
  },
  {
   "cell_type": "code",
   "execution_count": 61,
   "metadata": {},
   "outputs": [],
   "source": [
    "def make_env():\n",
    "    env = gym.make(env_name)\n",
    "    env = atari_wrappers.wrap_deepmind(\n",
    "        atari_wrappers.make_atari(env_name),\n",
    "        episode_life=False,\n",
    "        clip_rewards=False,\n",
    "    )\n",
    "    env.seed(seed)\n",
    "    misc.env_modifiers.make_rendered(env)\n",
    "    return env"
   ]
  },
  {
   "cell_type": "code",
   "execution_count": 62,
   "metadata": {},
   "outputs": [],
   "source": [
    "env = make_env()"
   ]
  },
  {
   "cell_type": "code",
   "execution_count": 63,
   "metadata": {},
   "outputs": [
    {
     "name": "stdout",
     "output_type": "stream",
     "text": [
      "400000\n",
      "Box(4, 84, 84)\n",
      "Discrete(18)\n"
     ]
    }
   ],
   "source": [
    "timestep_limit = env.spec.tags.get(\"wrapper_config.TimeLimit.max_episode_steps\")\n",
    "obs_size = env.observation_space.low.size\n",
    "action_size = env.action_space.n\n",
    "obs_space = env.observation_space\n",
    "action_space = env.action_space\n",
    "\n",
    "print(timestep_limit)\n",
    "print(obs_space)\n",
    "print(action_space)"
   ]
  },
  {
   "cell_type": "code",
   "execution_count": 64,
   "metadata": {},
   "outputs": [],
   "source": [
    "n_atoms = 51\n",
    "v_max = 10\n",
    "v_min = -10"
   ]
  },
  {
   "cell_type": "code",
   "execution_count": 65,
   "metadata": {},
   "outputs": [],
   "source": [
    "q_func = chainerrl.links.Sequence(\n",
    "    chainerrl.links.NatureDQNHead(),\n",
    "    chainerrl.q_functions.DistributionalFCStateQFunctionWithDiscreteAction(\n",
    "        None, action_size, n_atoms, v_min, v_max,\n",
    "        n_hidden_channels=0, n_hidden_layers=0,\n",
    "    )\n",
    ")"
   ]
  },
  {
   "cell_type": "code",
   "execution_count": 71,
   "metadata": {},
   "outputs": [],
   "source": [
    "explorer = explorers.LinearDecayEpsilonGreedy(\n",
    "    1,0, 0.1, 10**6, lambda: np.random.randint(action_size),\n",
    ")"
   ]
  },
  {
   "cell_type": "code",
   "execution_count": 72,
   "metadata": {},
   "outputs": [
    {
     "data": {
      "text/plain": [
       "<chainer.optimizers.adam.Adam at 0x11b236898>"
      ]
     },
     "execution_count": 72,
     "metadata": {},
     "output_type": "execute_result"
    }
   ],
   "source": [
    "opt = chainer.optimizers.Adam(2.5e-4, eps=1e-2 / batch_size)\n",
    "opt.setup(q_func)"
   ]
  },
  {
   "cell_type": "code",
   "execution_count": 73,
   "metadata": {},
   "outputs": [],
   "source": [
    "rbuf = replay_buffer.ReplayBuffer(10 ** 6)"
   ]
  },
  {
   "cell_type": "code",
   "execution_count": 74,
   "metadata": {},
   "outputs": [],
   "source": [
    "def phi(x):\n",
    "    return np.asarray(x, dtype=np.float32) / 255"
   ]
  },
  {
   "cell_type": "code",
   "execution_count": 75,
   "metadata": {},
   "outputs": [],
   "source": [
    "agent = chainerrl.agents.CategoricalDQN(\n",
    "    q_func, opt, rbuf, gpu=-1, gamma= 0.99, explorer=explorer, replay_start_size=5 * 10 ** 4,\n",
    "    target_update_interval=10 ** 4, update_interval=4, batch_accumulator=\"mean\", phi=phi,\n",
    ")"
   ]
  },
  {
   "cell_type": "code",
   "execution_count": 76,
   "metadata": {},
   "outputs": [],
   "source": [
    "agent.load(\"/Users/sykwer/work/i18-sykwer/experiments/visualize_naf/results/213921/20180807T064140.265982/50000000_finish\")"
   ]
  },
  {
   "cell_type": "markdown",
   "metadata": {},
   "source": [
    "## stepごとの, 出力されたReturnの分布を可視化する"
   ]
  },
  {
   "cell_type": "code",
   "execution_count": 81,
   "metadata": {},
   "outputs": [],
   "source": [
    "obs = env.reset()\n",
    "action_value = agent.model(agent.batch_states([obs], agent.xp, agent.phi))"
   ]
  },
  {
   "cell_type": "code",
   "execution_count": 90,
   "metadata": {},
   "outputs": [
    {
     "data": {
      "text/plain": [
       "array([-10. ,  -9.6,  -9.2,  -8.8,  -8.4,  -8. ,  -7.6,  -7.2,  -6.8,\n",
       "        -6.4,  -6. ,  -5.6,  -5.2,  -4.8,  -4.4,  -4. ,  -3.6,  -3.2,\n",
       "        -2.8,  -2.4,  -2. ,  -1.6,  -1.2,  -0.8,  -0.4,   0. ,   0.4,\n",
       "         0.8,   1.2,   1.6,   2. ,   2.4,   2.8,   3.2,   3.6,   4. ,\n",
       "         4.4,   4.8,   5.2,   5.6,   6. ,   6.4,   6.8,   7.2,   7.6,\n",
       "         8. ,   8.4,   8.8,   9.2,   9.6,  10. ], dtype=float32)"
      ]
     },
     "execution_count": 90,
     "metadata": {},
     "output_type": "execute_result"
    }
   ],
   "source": [
    "action_value.z_values"
   ]
  },
  {
   "cell_type": "code",
   "execution_count": 93,
   "metadata": {},
   "outputs": [
    {
     "data": {
      "text/plain": [
       "(18, 51)"
      ]
     },
     "execution_count": 93,
     "metadata": {},
     "output_type": "execute_result"
    }
   ],
   "source": [
    "action_value.q_dist[0].shape"
   ]
  },
  {
   "cell_type": "code",
   "execution_count": 104,
   "metadata": {},
   "outputs": [],
   "source": [
    "import matplotlib.pyplot as plt"
   ]
  },
  {
   "cell_type": "code",
   "execution_count": 110,
   "metadata": {},
   "outputs": [
    {
     "data": {
      "image/png": "[encoded data removed]",
      "text/plain": [
       "<Figure size 1152x720 with 1 Axes>"
      ]
     },
     "metadata": {},
     "output_type": "display_data"
    }
   ],
   "source": [
    "fig = plt.figure(figsize=[16, 10])\n",
    "ax = fig.add_subplot(111)\n",
    "idx = 0\n",
    "prev_qvalues = None\n",
    "\n",
    "for qvalues in action_value.q_dist.data[0]:\n",
    "    if idx == 0:\n",
    "        ax.bar(action_value.z_values, qvalues)\n",
    "    else:\n",
    "        ax.bar(action_value.z_values, qvalues, bottom=prev_qvalues)\n",
    "    idx += 1\n",
    "    prev_qvalues = qvalues\n",
    "\n",
    "plt.show()"
   ]
  },
  {
   "cell_type": "code",
   "execution_count": 114,
   "metadata": {},
   "outputs": [
    {
     "data": {
      "text/plain": [
       "variable([[5.1827903, 5.1831236, 5.1634855, 5.2140036, 5.1975193,\n",
       "           5.2071257, 5.176357 , 5.1749372, 5.219316 , 5.209268 ,\n",
       "           5.1708865, 5.205624 , 5.197775 , 5.2020836, 5.1860065,\n",
       "           5.175556 , 5.2009106, 5.206838 ]])"
      ]
     },
     "execution_count": 114,
     "metadata": {},
     "output_type": "execute_result"
    }
   ],
   "source": [
    "action_value.q_values"
   ]
  },
  {
   "cell_type": "markdown",
   "metadata": {},
   "source": [
    "# Q値の時系列変化の可視化"
   ]
  },
  {
   "cell_type": "code",
   "execution_count": null,
   "metadata": {},
   "outputs": [],
   "source": []
  }
 ],
 "metadata": {
  "kernelspec": {
   "display_name": "Python 3",
   "language": "python",
   "name": "python3"
  },
  "language_info": {
   "codemirror_mode": {
    "name": "ipython",
    "version": 3
   },
   "file_extension": ".py",
   "mimetype": "text/x-python",
   "name": "python",
   "nbconvert_exporter": "python",
   "pygments_lexer": "ipython3",
   "version": "3.7.0"
  }
 },
 "nbformat": 4,
 "nbformat_minor": 2
}
