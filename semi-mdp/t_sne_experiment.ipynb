{
 "cells": [
  {
   "cell_type": "code",
   "execution_count": 15,
   "metadata": {},
   "outputs": [],
   "source": [
    "from bhtsne import tsne\n",
    "from sklearn.datasets import load_iris\n",
    "import matplotlib.pyplot as plt"
   ]
  },
  {
   "cell_type": "code",
   "execution_count": 57,
   "metadata": {},
   "outputs": [
    {
     "name": "stdout",
     "output_type": "stream",
     "text": [
      "<class 'numpy.ndarray'>\n",
      "float64\n"
     ]
    },
    {
     "data": {
      "text/plain": [
       "(150, 4)"
      ]
     },
     "execution_count": 57,
     "metadata": {},
     "output_type": "execute_result"
    }
   ],
   "source": [
    "iris = load_iris()\n",
    "print(iris.data.__class__)\n",
    "print(iris.data.dtype)\n",
    "iris.data.shape"
   ]
  },
  {
   "cell_type": "code",
   "execution_count": 17,
   "metadata": {},
   "outputs": [],
   "source": [
    "Y = tsne(iris.data)"
   ]
  },
  {
   "cell_type": "code",
   "execution_count": 18,
   "metadata": {},
   "outputs": [
    {
     "data": {
      "text/plain": [
       "(150, 2)"
      ]
     },
     "execution_count": 18,
     "metadata": {},
     "output_type": "execute_result"
    }
   ],
   "source": [
    "Y.shape"
   ]
  },
  {
   "cell_type": "code",
   "execution_count": 19,
   "metadata": {},
   "outputs": [
    {
     "data": {
      "image/png": "[encoded data removed]",
      "text/plain": [
       "<Figure size 432x288 with 1 Axes>"
      ]
     },
     "metadata": {},
     "output_type": "display_data"
    }
   ],
   "source": [
    "plt.scatter(Y[:, 0], Y[:, 1], c=iris.target)\n",
    "plt.show()"
   ]
  },
  {
   "cell_type": "code",
   "execution_count": 22,
   "metadata": {},
   "outputs": [
    {
     "name": "stderr",
     "output_type": "stream",
     "text": [
      "/Users/sykwer/work/i18-sykwer/visualize_atari/venv/lib/python3.7/site-packages/gym/__init__.py:15: UserWarning: gym.undo_logger_setup is deprecated. gym no longer modifies the global logging configuration\n",
      "  warnings.warn(\"gym.undo_logger_setup is deprecated. gym no longer modifies the global logging configuration\")\n"
     ]
    }
   ],
   "source": [
    "import os\n",
    "import logging\n",
    "import statistics\n",
    "\n",
    "import pandas as pd\n",
    "import matplotlib.pyplot as plt\n",
    "\n",
    "import gym\n",
    "\n",
    "gym.undo_logger_setup()  # NOQA\n",
    "from chainer import functions as F\n",
    "from chainer import links as L\n",
    "from chainer import optimizers\n",
    "import numpy as np\n",
    "\n",
    "import chainerrl\n",
    "from chainerrl.action_value import DiscreteActionValue\n",
    "from chainerrl import agents\n",
    "from chainerrl import experiments\n",
    "from chainerrl import explorers\n",
    "from chainerrl import links\n",
    "from chainerrl import misc\n",
    "from chainerrl.q_functions import DuelingDQN\n",
    "from chainerrl import replay_buffer\n",
    "\n",
    "import atari_wrappers"
   ]
  },
  {
   "cell_type": "code",
   "execution_count": 23,
   "metadata": {},
   "outputs": [],
   "source": [
    "random_seed = 1\n",
    "outdir = \"results\"\n",
    "env_name = \"BreakoutNoFrameskip-v4\"\n",
    "load_dir = \"../visualize_atari/results/211288/20180804T155228.325999/10000000_finish\""
   ]
  },
  {
   "cell_type": "code",
   "execution_count": 24,
   "metadata": {},
   "outputs": [],
   "source": [
    "def make_env():\n",
    "    env = atari_wrappers.wrap_deepmind(\n",
    "        atari_wrappers.make_atari(env_name),\n",
    "        episode_life=False, clip_rewards=False\n",
    "    )\n",
    "    env.seed(random_seed)\n",
    "    # misc.env_modifiers.make_rendered(env)\n",
    "    return env\n",
    "env = make_env()"
   ]
  },
  {
   "cell_type": "code",
   "execution_count": 25,
   "metadata": {},
   "outputs": [
    {
     "name": "stdout",
     "output_type": "stream",
     "text": [
      "observation space shape: (4, 84, 84)\n",
      "action size: 4\n"
     ]
    }
   ],
   "source": [
    "print(\"observation space shape: {}\".format(env.observation_space.shape))\n",
    "print(\"action size: {}\".format(env.action_space.n))"
   ]
  },
  {
   "cell_type": "code",
   "execution_count": 26,
   "metadata": {},
   "outputs": [],
   "source": [
    "q_func = links.Sequence(\n",
    "    links.NatureDQNHead(activation=F.relu),\n",
    "    L.Linear(512, env.action_space.n),\n",
    "    DiscreteActionValue,\n",
    ")\n",
    "opt = optimizers.RMSpropGraves(lr=2.5e-4, alpha=0.95, momentum=0.0, eps=1e-2)\n",
    "opt.setup(q_func)\n",
    "rep_buf = replay_buffer.ReplayBuffer(10 ** 6)\n",
    "explorer = explorers.LinearDecayEpsilonGreedy(\n",
    "    1,0, 0.1, 10 ** 6, lambda: np.random.randint(env.action_space.n),\n",
    ")"
   ]
  },
  {
   "cell_type": "code",
   "execution_count": 27,
   "metadata": {},
   "outputs": [],
   "source": [
    "agent = agents.DQN(q_func, opt, rep_buf, gpu=-1, gamma=0.99, explorer=explorer, replay_start_size=5 * 10**4,\n",
    "           target_update_interval=10**4, clip_delta=True, update_interval=4, batch_accumulator=\"sum\",\n",
    "            phi=lambda x: np.asarray(x, np.float32) / 255)\n",
    "agent.load(load_dir)"
   ]
  },
  {
   "cell_type": "code",
   "execution_count": 30,
   "metadata": {},
   "outputs": [],
   "source": [
    "# memo -----\n",
    "\n",
    "head_conv_layer = q_func.layers[0]\n",
    "fc_layer = q_func.layers[1]\n",
    "last_layer = q_func.layers[2]"
   ]
  },
  {
   "cell_type": "code",
   "execution_count": 32,
   "metadata": {},
   "outputs": [],
   "source": [
    "obs = env.reset()\n",
    "ipt = agent.batch_states([np.asarray(obs)], agent.xp, agent.phi)"
   ]
  },
  {
   "cell_type": "code",
   "execution_count": 35,
   "metadata": {},
   "outputs": [
    {
     "data": {
      "text/plain": [
       "(1, 512)"
      ]
     },
     "execution_count": 35,
     "metadata": {},
     "output_type": "execute_result"
    }
   ],
   "source": [
    "ipt2 = head_conv_layer(ipt)\n",
    "ipt2.shape"
   ]
  },
  {
   "cell_type": "code",
   "execution_count": 36,
   "metadata": {},
   "outputs": [
    {
     "data": {
      "text/plain": [
       "(1, 4)"
      ]
     },
     "execution_count": 36,
     "metadata": {},
     "output_type": "execute_result"
    }
   ],
   "source": [
    "ipt3 = fc_layer(ipt2)\n",
    "ipt3.shape"
   ]
  },
  {
   "cell_type": "code",
   "execution_count": 38,
   "metadata": {},
   "outputs": [
    {
     "data": {
      "text/plain": [
       "(1, 4)"
      ]
     },
     "execution_count": 38,
     "metadata": {},
     "output_type": "execute_result"
    }
   ],
   "source": [
    "output = last_layer(ipt3)\n",
    "ipt3.shape\n",
    "# end --------"
   ]
  },
  {
   "cell_type": "code",
   "execution_count": 61,
   "metadata": {},
   "outputs": [
    {
     "name": "stdout",
     "output_type": "stream",
     "text": [
      "episode reward: 227.0\n"
     ]
    }
   ],
   "source": [
    "conv_acti_list = []\n",
    "fc_acti_list = []\n",
    "image_list = []\n",
    "\n",
    "obs = env.reset()\n",
    "done = False\n",
    "test_r = 0\n",
    "t = 0\n",
    "\n",
    "while not (done or t == 1800):\n",
    "    image_list.append(env.render(mode=\"rgb_array\"))\n",
    "    \n",
    "    head_conv_layer = q_func.layers[0]\n",
    "    fc_layer = q_func.layers[1]\n",
    "    ipt = agent.batch_states([np.asarray(obs)], agent.xp, agent.phi)\n",
    "    \n",
    "    conv_acti = head_conv_layer(ipt)\n",
    "    fc_acti = fc_layer(conv_acti)\n",
    "    \n",
    "    conv_acti_list.append(conv_acti[0].data)\n",
    "    fc_acti_list.append(fc_acti[0].data)\n",
    "    \n",
    "    a = agent.act(obs)\n",
    "    obs, r, done, info = env.step(a)\n",
    "    test_r += r\n",
    "    t += 1\n",
    "\n",
    "agent.stop_episode()\n",
    "print(\"episode reward: {}\".format(test_r))"
   ]
  },
  {
   "cell_type": "code",
   "execution_count": 63,
   "metadata": {},
   "outputs": [],
   "source": [
    "conv_acti_list = np.array(conv_acti_list).astype(np.float64)\n",
    "fc_acti_list = np.array(fc_acti_list).astype(np.float64)"
   ]
  },
  {
   "cell_type": "code",
   "execution_count": 66,
   "metadata": {},
   "outputs": [],
   "source": [
    "tsne_conv_activation = tsne(conv_acti_list)"
   ]
  },
  {
   "cell_type": "code",
   "execution_count": 67,
   "metadata": {},
   "outputs": [
    {
     "data": {
      "image/png": "[encoded data removed]",
      "text/plain": [
       "<Figure size 432x288 with 1 Axes>"
      ]
     },
     "metadata": {},
     "output_type": "display_data"
    }
   ],
   "source": [
    "plt.scatter(tsne_conv_activation[:, 0], tsne_conv_activation[:, 1])\n",
    "plt.show()"
   ]
  },
  {
   "cell_type": "code",
   "execution_count": 68,
   "metadata": {},
   "outputs": [],
   "source": [
    "tsne_fc_activation = tsne(fc_acti_list)"
   ]
  },
  {
   "cell_type": "code",
   "execution_count": 69,
   "metadata": {},
   "outputs": [
    {
     "data": {
      "image/png": "[encoded data removed]",
      "text/plain": [
       "<Figure size 432x288 with 1 Axes>"
      ]
     },
     "metadata": {},
     "output_type": "display_data"
    }
   ],
   "source": [
    "plt.scatter(tsne_fc_activation[:, 0], tsne_fc_activation[:, 1])\n",
    "plt.show()"
   ]
  },
  {
   "cell_type": "code",
   "execution_count": null,
   "metadata": {},
   "outputs": [],
   "source": []
  }
 ],
 "metadata": {
  "kernelspec": {
   "display_name": "Python 3",
   "language": "python",
   "name": "python3"
  },
  "language_info": {
   "codemirror_mode": {
    "name": "ipython",
    "version": 3
   },
   "file_extension": ".py",
   "mimetype": "text/x-python",
   "name": "python",
   "nbconvert_exporter": "python",
   "pygments_lexer": "ipython3",
   "version": "3.7.0"
  }
 },
 "nbformat": 4,
 "nbformat_minor": 2
}
