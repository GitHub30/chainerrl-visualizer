{
 "cells": [
  {
   "cell_type": "code",
   "execution_count": 2,
   "metadata": {},
   "outputs": [
    {
     "name": "stderr",
     "output_type": "stream",
     "text": [
      "/Users/sykwer/work/i18-sykwer/appv0/venv/lib/python3.7/site-packages/chainer-5.0.0b3-py3.7.egg/chainer/_environment_check.py:38: UserWarning: Accelerate has been detected as a NumPy backend library.\n",
      "vecLib, which is a part of Accelerate, is known not to work correctly with Chainer.\n",
      "We recommend using other BLAS libraries such as OpenBLAS.\n",
      "For details of the issue, please see\n",
      "https://docs.chainer.org/en/stable/tips.html#mnist-example-does-not-converge-in-cpu-mode-on-mac-os-x.\n",
      "\n",
      "Also note that Chainer does not officially support Mac OS X.\n",
      "Please use it at your own risk.\n",
      "\n",
      "  ''')  # NOQA\n"
     ]
    }
   ],
   "source": [
    "import argparse\n",
    "import os\n",
    "import sys\n",
    "\n",
    "from chainer import optimizers\n",
    "import gym\n",
    "from gym import spaces\n",
    "import gym.wrappers\n",
    "import numpy as np\n",
    "\n",
    "import chainerrl\n",
    "from chainerrl.agents.dqn import DQN\n",
    "from chainerrl import experiments\n",
    "from chainerrl import explorers\n",
    "from chainerrl import links\n",
    "from chainerrl import misc\n",
    "from chainerrl import q_functions\n",
    "from chainerrl import replay_buffer"
   ]
  },
  {
   "cell_type": "code",
   "execution_count": 3,
   "metadata": {},
   "outputs": [],
   "source": [
    "outdir = \"results\"\n",
    "env_name = \"Pendulum-v0\"\n",
    "seed = 0\n",
    "gpu = -1\n",
    "final_exploration_steps = 10 ** 4\n",
    "start_epsilon = 1.0\n",
    "end_epsilon = 0.1\n",
    "noisy_net_sigma = None\n",
    "demo = True\n",
    "load = None\n",
    "steps = 10 ** 5\n",
    "prioritized_replay = False\n",
    "episodic_replay = False\n",
    "replay_start_size = 1000\n",
    "target_update_interval = 10 ** 2\n",
    "target_update_method = \"hard\"\n",
    "soft_update_tau = 1e-2\n",
    "update_interval = 1\n",
    "eval_n_runs = 100\n",
    "eval_interval = 10 ** 4\n",
    "n_hidden_channels = 100\n",
    "n_hidden_layers = 2\n",
    "gamma = 0.99\n",
    "minibatch_size = None\n",
    "render_train = False\n",
    "render_eval = True\n",
    "monitor = False\n",
    "reward_scale_factor = 1e-3"
   ]
  },
  {
   "cell_type": "code",
   "execution_count": 4,
   "metadata": {},
   "outputs": [],
   "source": [
    "misc.set_random_seed(seed)"
   ]
  },
  {
   "cell_type": "code",
   "execution_count": 5,
   "metadata": {},
   "outputs": [],
   "source": [
    "def clip_action_filter(a):\n",
    "    return np.clip(a, action_space.low, action_space.high)\n",
    "\n",
    "def make_env():\n",
    "    env = gym.make(env_name)\n",
    "    misc.env_modifiers.make_action_filtered(env, clip_action_filter)\n",
    "    return env"
   ]
  },
  {
   "cell_type": "code",
   "execution_count": 6,
   "metadata": {},
   "outputs": [
    {
     "name": "stdout",
     "output_type": "stream",
     "text": [
      "\u001b[33mWARN: gym.spaces.Box autodetected dtype as <class 'numpy.float32'>. Please provide explicit dtype.\u001b[0m\n",
      "\u001b[33mWARN: gym.spaces.Box autodetected dtype as <class 'numpy.float32'>. Please provide explicit dtype.\u001b[0m\n"
     ]
    }
   ],
   "source": [
    "env = make_env()\n",
    "timestep_limit = env.spec.tags.get(\"wrapper_config.TimeLimit.max_episode_steps\")\n",
    "obs_space = env.observation_space\n",
    "obs_size = obs_space.low.size\n",
    "action_space = env.action_space\n",
    "action_size = action_space.low.size"
   ]
  },
  {
   "cell_type": "code",
   "execution_count": 7,
   "metadata": {},
   "outputs": [
    {
     "name": "stdout",
     "output_type": "stream",
     "text": [
      "obs_space:  Box(3,)\n",
      "obs_size:  3\n",
      "action_space:  Box(1,)\n",
      "action_size:  1\n"
     ]
    }
   ],
   "source": [
    "print(\"obs_space: \", obs_space)\n",
    "print(\"obs_size: \", obs_size)\n",
    "print(\"action_space: \", action_space)\n",
    "print(\"action_size: \", action_size)"
   ]
  },
  {
   "cell_type": "code",
   "execution_count": 8,
   "metadata": {},
   "outputs": [],
   "source": [
    "q_func = q_functions.FCQuadraticStateQFunction(\n",
    "    obs_size, action_size, n_hidden_channels=n_hidden_channels, n_hidden_layers=n_hidden_layers,\n",
    "    action_space=action_space\n",
    ")\n",
    "\n",
    "ou_sigma = (action_space.high - action_space.low) * 0.2\n",
    "explorer = explorers.AdditiveOU(sigma=ou_sigma)"
   ]
  },
  {
   "cell_type": "code",
   "execution_count": 9,
   "metadata": {},
   "outputs": [
    {
     "data": {
      "text/plain": [
       "<chainer.optimizers.adam.Adam at 0x11848f4a8>"
      ]
     },
     "execution_count": 9,
     "metadata": {},
     "output_type": "execute_result"
    }
   ],
   "source": [
    "opt = optimizers.Adam()\n",
    "opt.setup(q_func)"
   ]
  },
  {
   "cell_type": "code",
   "execution_count": 10,
   "metadata": {},
   "outputs": [],
   "source": [
    "rbuf_capacity = 5 * 10**5\n",
    "minibatch_size = 32\n",
    "rbuf = replay_buffer.ReplayBuffer(rbuf_capacity)"
   ]
  },
  {
   "cell_type": "code",
   "execution_count": 11,
   "metadata": {},
   "outputs": [],
   "source": [
    "def phi(obs):\n",
    "    return obs.astype(np.float32)"
   ]
  },
  {
   "cell_type": "code",
   "execution_count": 12,
   "metadata": {},
   "outputs": [],
   "source": [
    "agent = DQN(q_func, opt, rbuf, gpu=gpu, gamma=gamma, explorer=explorer,\n",
    "           replay_start_size=replay_start_size, target_update_interval=target_update_interval,\n",
    "           update_interval=update_interval,\n",
    "           phi=phi, minibatch_size=minibatch_size, target_update_method=target_update_method,\n",
    "           soft_update_tau=soft_update_tau, episodic_update=episodic_replay, episodic_update_len=16)"
   ]
  },
  {
   "cell_type": "code",
   "execution_count": 13,
   "metadata": {},
   "outputs": [],
   "source": [
    "obs = env.reset()\n",
    "done = False\n",
    "test_r = 0\n",
    "t = 0\n",
    "\n",
    "action_list = []\n",
    "image_list = []\n",
    "\n",
    "while not (done or t == timestep_limit):\n",
    "    image_list.append(env.render(mode=\"rgb_array\"))\n",
    "    \n",
    "    a = agent.act(obs)\n",
    "    action_list.append(a[0])\n",
    "    obs, r, done, info = env.step(a)\n",
    "    test_r += r\n",
    "    t += 1\n",
    "\n",
    "agent.stop_episode()"
   ]
  },
  {
   "cell_type": "code",
   "execution_count": 15,
   "metadata": {},
   "outputs": [],
   "source": [
    "import matplotlib.pyplot as plt"
   ]
  },
  {
   "cell_type": "code",
   "execution_count": 25,
   "metadata": {},
   "outputs": [
    {
     "data": {
      "image/png": "[encoded data removed]",
      "text/plain": [
       "<Figure size 432x288 with 1 Axes>"
      ]
     },
     "metadata": {},
     "output_type": "display_data"
    }
   ],
   "source": [
    "plt.plot(action_list[0:16])\n",
    "plt.show()"
   ]
  },
  {
   "cell_type": "code",
   "execution_count": 27,
   "metadata": {},
   "outputs": [
    {
     "data": {
      "image/png": "[encoded data removed]",
      "text/plain": [
       "<Figure size 1152x144 with 8 Axes>"
      ]
     },
     "metadata": {},
     "output_type": "display_data"
    }
   ],
   "source": [
    "fig = plt.figure(figsize=[16, 2])\n",
    "\n",
    "for i in range(1, 9):\n",
    "    ax = fig.add_subplot(\"18{}\".format(i))\n",
    "    ax.imshow(image_list[i-1])"
   ]
  },
  {
   "cell_type": "code",
   "execution_count": 28,
   "metadata": {},
   "outputs": [
    {
     "data": {
      "image/png": "[encoded data removed]",
      "text/plain": [
       "<Figure size 1152x144 with 8 Axes>"
      ]
     },
     "metadata": {},
     "output_type": "display_data"
    }
   ],
   "source": [
    "fig = plt.figure(figsize=[16, 2])\n",
    "\n",
    "for i in range(9, 17):\n",
    "    ax = fig.add_subplot(\"18{}\".format(i-8))\n",
    "    ax.imshow(image_list[i-1])"
   ]
  },
  {
   "cell_type": "code",
   "execution_count": 33,
   "metadata": {},
   "outputs": [],
   "source": [
    "action_value = agent.model(agent.batch_states([obs], agent.xp, agent.phi))"
   ]
  },
  {
   "cell_type": "code",
   "execution_count": 36,
   "metadata": {},
   "outputs": [
    {
     "data": {
      "text/plain": [
       "variable([[0.61279196]])"
      ]
     },
     "execution_count": 36,
     "metadata": {},
     "output_type": "execute_result"
    }
   ],
   "source": [
    "action_value.greedy_actions"
   ]
  },
  {
   "cell_type": "code",
   "execution_count": 37,
   "metadata": {},
   "outputs": [
    {
     "data": {
      "text/plain": [
       "variable([0.211856])"
      ]
     },
     "execution_count": 37,
     "metadata": {},
     "output_type": "execute_result"
    }
   ],
   "source": [
    "action_value.max"
   ]
  },
  {
   "cell_type": "code",
   "execution_count": 40,
   "metadata": {},
   "outputs": [
    {
     "data": {
      "text/plain": [
       "variable([0.])"
      ]
     },
     "execution_count": 40,
     "metadata": {},
     "output_type": "execute_result"
    }
   ],
   "source": [
    "action_value.compute_advantage(action_value.greedy_actions)"
   ]
  },
  {
   "cell_type": "code",
   "execution_count": 48,
   "metadata": {},
   "outputs": [
    {
     "data": {
      "text/plain": [
       "0.06919985128392336"
      ]
     },
     "execution_count": 48,
     "metadata": {},
     "output_type": "execute_result"
    }
   ],
   "source": [
    "agent.average_q"
   ]
  },
  {
   "cell_type": "code",
   "execution_count": null,
   "metadata": {},
   "outputs": [],
   "source": []
  }
 ],
 "metadata": {
  "kernelspec": {
   "display_name": "Python 3",
   "language": "python",
   "name": "python3"
  },
  "language_info": {
   "codemirror_mode": {
    "name": "ipython",
    "version": 3
   },
   "file_extension": ".py",
   "mimetype": "text/x-python",
   "name": "python",
   "nbconvert_exporter": "python",
   "pygments_lexer": "ipython3",
   "version": "3.7.0"
  }
 },
 "nbformat": 4,
 "nbformat_minor": 2
}
